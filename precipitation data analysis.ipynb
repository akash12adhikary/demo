{
    "cells": [
        {
            "metadata": {},
            "cell_type": "markdown",
            "source": "# Description\nThis notebook analyse and visualise precipitation data"
        },
        {
            "metadata": {},
            "cell_type": "code",
            "source": "\nimport types\nimport pandas as pd\nfrom botocore.client import Config\nimport ibm_boto3\n\ndef __iter__(self): return 0\n\n# @hidden_cell\n# The following code accesses a file in your IBM Cloud Object Storage. It includes your credentials.\n# You might want to remove those credentials before you share the notebook.\nclient_e1b6635b99d641e98b78188cf8ab1caf = ibm_boto3.client(service_name='s3',\n    ibm_api_key_id='wzrlBffBVOqUcaYYKd0NIzavDKMfN9mtSXfljfJsDVBM',\n    ibm_auth_endpoint=\"https://iam.cloud.ibm.com/oidc/token\",\n    config=Config(signature_version='oauth'),\n    endpoint_url='https://s3-api.us-geo.objectstorage.service.networklayer.com')\n\nbody = client_e1b6635b99d641e98b78188cf8ab1caf.get_object(Bucket='gettingstarted-donotdelete-pr-hzpnwiqyovjgvo',Key='PRECIP_HLY_sample_csv.csv')['Body']\n# add missing __iter__ method, so pandas accepts body as file-like object\nif not hasattr(body, \"__iter__\"): body.__iter__ = types.MethodType( __iter__, body )\n\ndf_data_1 = pd.read_csv(body)\ndf_data_1.head()\n",
            "execution_count": 1,
            "outputs": [
                {
                    "output_type": "execute_result",
                    "execution_count": 1,
                    "data": {
                        "text/plain": "       STATION     STATION_NAME  ELEVATION  LATITUDE  LONGITUDE  \\\n0  COOP:310301  ASHEVILLE NC US      682.1   35.5954   -82.5568   \n1  COOP:310301  ASHEVILLE NC US      682.1   35.5954   -82.5568   \n2  COOP:310301  ASHEVILLE NC US      682.1   35.5954   -82.5568   \n\n             DATE   HPCP Measurement Flag Quality Flag  \n0  20100101 00:00  99999                ]               \n1  20100101 01:00      0                g               \n2  20100102 06:00      1                                ",
                        "text/html": "<div>\n<style scoped>\n    .dataframe tbody tr th:only-of-type {\n        vertical-align: middle;\n    }\n\n    .dataframe tbody tr th {\n        vertical-align: top;\n    }\n\n    .dataframe thead th {\n        text-align: right;\n    }\n</style>\n<table border=\"1\" class=\"dataframe\">\n  <thead>\n    <tr style=\"text-align: right;\">\n      <th></th>\n      <th>STATION</th>\n      <th>STATION_NAME</th>\n      <th>ELEVATION</th>\n      <th>LATITUDE</th>\n      <th>LONGITUDE</th>\n      <th>DATE</th>\n      <th>HPCP</th>\n      <th>Measurement Flag</th>\n      <th>Quality Flag</th>\n    </tr>\n  </thead>\n  <tbody>\n    <tr>\n      <th>0</th>\n      <td>COOP:310301</td>\n      <td>ASHEVILLE NC US</td>\n      <td>682.1</td>\n      <td>35.5954</td>\n      <td>-82.5568</td>\n      <td>20100101 00:00</td>\n      <td>99999</td>\n      <td>]</td>\n      <td></td>\n    </tr>\n    <tr>\n      <th>1</th>\n      <td>COOP:310301</td>\n      <td>ASHEVILLE NC US</td>\n      <td>682.1</td>\n      <td>35.5954</td>\n      <td>-82.5568</td>\n      <td>20100101 01:00</td>\n      <td>0</td>\n      <td>g</td>\n      <td></td>\n    </tr>\n    <tr>\n      <th>2</th>\n      <td>COOP:310301</td>\n      <td>ASHEVILLE NC US</td>\n      <td>682.1</td>\n      <td>35.5954</td>\n      <td>-82.5568</td>\n      <td>20100102 06:00</td>\n      <td>1</td>\n      <td></td>\n      <td></td>\n    </tr>\n  </tbody>\n</table>\n</div>"
                    },
                    "metadata": {}
                }
            ]
        },
        {
            "metadata": {},
            "cell_type": "code",
            "source": "",
            "execution_count": null,
            "outputs": []
        }
    ],
    "metadata": {
        "kernelspec": {
            "name": "python3",
            "display_name": "Python 3.6",
            "language": "python"
        },
        "language_info": {
            "name": "python",
            "version": "3.6.9",
            "mimetype": "text/x-python",
            "codemirror_mode": {
                "name": "ipython",
                "version": 3
            },
            "pygments_lexer": "ipython3",
            "nbconvert_exporter": "python",
            "file_extension": ".py"
        }
    },
    "nbformat": 4,
    "nbformat_minor": 1
}